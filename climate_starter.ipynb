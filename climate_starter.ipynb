{
 "cells": [
  {
   "cell_type": "code",
   "execution_count": 1,
   "metadata": {},
   "outputs": [],
   "source": [
    "%matplotlib inline\n",
    "from matplotlib import style\n",
    "style.use('fivethirtyeight')\n",
    "import matplotlib.pyplot as plt"
   ]
  },
  {
   "cell_type": "code",
   "execution_count": 2,
   "metadata": {},
   "outputs": [],
   "source": [
    "import numpy as np\n",
    "import pandas as pd\n",
    "import datetime as dt"
   ]
  },
  {
   "cell_type": "markdown",
   "metadata": {},
   "source": [
    "# Reflect Tables into SQLAlchemy ORM"
   ]
  },
  {
   "cell_type": "code",
   "execution_count": 3,
   "metadata": {},
   "outputs": [],
   "source": [
    "# Python SQL toolkit and Object Relational Mapper\n",
    "import sqlalchemy\n",
    "from sqlalchemy.ext.automap import automap_base\n",
    "from sqlalchemy.orm import Session\n",
    "from sqlalchemy import create_engine, func, inspect"
   ]
  },
  {
   "cell_type": "code",
   "execution_count": 4,
   "metadata": {},
   "outputs": [],
   "source": [
    "# create engine to hawaii.sqlite\n",
    "engine = create_engine(\"sqlite:///hawaii.sqlite\")"
   ]
  },
  {
   "cell_type": "code",
   "execution_count": 5,
   "metadata": {},
   "outputs": [
    {
     "data": {
      "text/plain": [
       "['measurement', 'station']"
      ]
     },
     "execution_count": 5,
     "metadata": {},
     "output_type": "execute_result"
    }
   ],
   "source": [
    "# reflect an existing database into a new model\n",
    "Base = automap_base()\n",
    "\n",
    "# reflect the tables\n",
    "Base.prepare(engine, reflect=True)\n",
    "\n",
    "# View all of the classes that automap found\n",
    "Base.classes.keys()"
   ]
  },
  {
   "cell_type": "code",
   "execution_count": 6,
   "metadata": {},
   "outputs": [],
   "source": [
    "# Save references to each table\n",
    "Measurement = Base.classes.measurement\n",
    "Station = Base.classes.station"
   ]
  },
  {
   "cell_type": "code",
   "execution_count": 7,
   "metadata": {},
   "outputs": [],
   "source": [
    "# Create our session (link) from Python to the DB\n",
    "Session = Session(engine)"
   ]
  },
  {
   "cell_type": "markdown",
   "metadata": {},
   "source": [
    "# Exploratory Precipitation Analysis"
   ]
  },
  {
   "cell_type": "code",
   "execution_count": 8,
   "metadata": {},
   "outputs": [
    {
     "data": {
      "text/plain": [
       "['measurement', 'station']"
      ]
     },
     "execution_count": 8,
     "metadata": {},
     "output_type": "execute_result"
    }
   ],
   "source": [
    "# Use the Inspector to explore the database and print the table names ... same as base.classes.keys\n",
    "inspector = inspect(engine)\n",
    "inspector.get_table_names()"
   ]
  },
  {
   "cell_type": "code",
   "execution_count": 9,
   "metadata": {},
   "outputs": [
    {
     "name": "stdout",
     "output_type": "stream",
     "text": [
      "Measurement\n",
      "id INTEGER\n",
      "station TEXT\n",
      "date TEXT\n",
      "prcp FLOAT\n",
      "tobs FLOAT\n",
      "\n",
      "\n",
      "Stations\n",
      "id INTEGER\n",
      "station TEXT\n",
      "name TEXT\n",
      "latitude FLOAT\n",
      "longitude FLOAT\n",
      "elevation FLOAT\n"
     ]
    }
   ],
   "source": [
    "# List columns on each table\n",
    "inspector = inspect(engine)\n",
    "\n",
    "meas_columns = inspector.get_columns(\"measurement\")\n",
    "print(\"Measurement\")\n",
    "for column in meas_columns:\n",
    "    print(column[\"name\"], column[\"type\"])\n",
    "\n",
    "print(\"\\n\")\n",
    "    \n",
    "station_columns = inspector.get_columns(\"station\")\n",
    "print(\"Stations\")\n",
    "for column in station_columns:\n",
    "    print(column[\"name\"], column[\"type\"])"
   ]
  },
  {
   "cell_type": "code",
   "execution_count": 10,
   "metadata": {},
   "outputs": [
    {
     "name": "stdout",
     "output_type": "stream",
     "text": [
      "Most recent date is: 2017-08-23\n"
     ]
    }
   ],
   "source": [
    "# Find the most recent date in the data set.\n",
    "most_recent_date = Session.query(Measurement.date).order_by(Measurement.date.desc()).first()\n",
    "print(f\"Most recent date is: {most_recent_date[0]}\")"
   ]
  },
  {
   "cell_type": "code",
   "execution_count": 11,
   "metadata": {},
   "outputs": [
    {
     "name": "stdout",
     "output_type": "stream",
     "text": [
      "2016-08-23 00:00:00\n"
     ]
    }
   ],
   "source": [
    "# Design a query to retrieve the last 12 months of precipitation data and plot the results. \n",
    "# Starting from the most recent data point in the database. \n",
    "end_date = dt.datetime.strptime(most_recent_date[0], \"%Y-%m-%d\")\n",
    "                                \n",
    "# Calculate the date one year from the last date in data set.\n",
    "start_date = end_date - dt.timedelta(days=365)\n",
    "print(start_date)"
   ]
  },
  {
   "cell_type": "code",
   "execution_count": 12,
   "metadata": {},
   "outputs": [
    {
     "data": {
      "text/plain": [
       "[('2016-08-24', 0.08),\n",
       " ('2016-08-25', 0.08),\n",
       " ('2016-08-26', 0.0),\n",
       " ('2016-08-27', 0.0),\n",
       " ('2016-08-28', 0.01)]"
      ]
     },
     "execution_count": 12,
     "metadata": {},
     "output_type": "execute_result"
    }
   ],
   "source": [
    "# Perform a query to retrieve the data and precipitation scores\n",
    "Retrieve_Measurement_Columns = (Measurement.date, Measurement.prcp)\n",
    "\n",
    "Precipitation_data = Session.query(*Retrieve_Measurement_Columns).filter(Measurement.date >= start_date).all()\n",
    "Precipitation_data[:5]"
   ]
  },
  {
   "cell_type": "code",
   "execution_count": 13,
   "metadata": {},
   "outputs": [
    {
     "data": {
      "text/html": [
       "<div>\n",
       "<style scoped>\n",
       "    .dataframe tbody tr th:only-of-type {\n",
       "        vertical-align: middle;\n",
       "    }\n",
       "\n",
       "    .dataframe tbody tr th {\n",
       "        vertical-align: top;\n",
       "    }\n",
       "\n",
       "    .dataframe thead th {\n",
       "        text-align: right;\n",
       "    }\n",
       "</style>\n",
       "<table border=\"1\" class=\"dataframe\">\n",
       "  <thead>\n",
       "    <tr style=\"text-align: right;\">\n",
       "      <th></th>\n",
       "      <th>Precipitation_Amount</th>\n",
       "    </tr>\n",
       "    <tr>\n",
       "      <th>Measurement_Date</th>\n",
       "      <th></th>\n",
       "    </tr>\n",
       "  </thead>\n",
       "  <tbody>\n",
       "    <tr>\n",
       "      <th>2016-08-24</th>\n",
       "      <td>0.08</td>\n",
       "    </tr>\n",
       "    <tr>\n",
       "      <th>2016-08-25</th>\n",
       "      <td>0.08</td>\n",
       "    </tr>\n",
       "    <tr>\n",
       "      <th>2016-08-26</th>\n",
       "      <td>0.00</td>\n",
       "    </tr>\n",
       "    <tr>\n",
       "      <th>2016-08-27</th>\n",
       "      <td>0.00</td>\n",
       "    </tr>\n",
       "    <tr>\n",
       "      <th>2016-08-28</th>\n",
       "      <td>0.01</td>\n",
       "    </tr>\n",
       "  </tbody>\n",
       "</table>\n",
       "</div>"
      ],
      "text/plain": [
       "                  Precipitation_Amount\n",
       "Measurement_Date                      \n",
       "2016-08-24                        0.08\n",
       "2016-08-25                        0.08\n",
       "2016-08-26                        0.00\n",
       "2016-08-27                        0.00\n",
       "2016-08-28                        0.01"
      ]
     },
     "execution_count": 13,
     "metadata": {},
     "output_type": "execute_result"
    }
   ],
   "source": [
    "# Save the query results as a Pandas DataFrame\n",
    "Precipitation_df = pd.DataFrame(Precipitation_data, columns=[\"Measurement_Date\", \"Precipitation_Amount\"])\n",
    "\n",
    "# Set the index to the date column\n",
    "Precipitation_df.set_index(\"Measurement_Date\", inplace=True)\n",
    "\n",
    "# Sort by Data\n",
    "Precipitation_df.sort_values(by=\"Measurement_Date\")\n",
    "\n",
    "# Remove rows with NA values\n",
    "Precipitation_df.dropna(axis=0, how=\"any\", inplace= True)\n",
    "\n",
    "# Print\n",
    "Precipitation_df.head()"
   ]
  },
  {
   "cell_type": "code",
   "execution_count": 37,
   "metadata": {},
   "outputs": [
    {
     "data": {
      "image/png": "[encoded data removed]",
      "text/plain": [
       "<Figure size 648x432 with 1 Axes>"
      ]
     },
     "metadata": {},
     "output_type": "display_data"
    }
   ],
   "source": [
    "# Plotting Measurement_Date vs. Precipitation_Amount\n",
    "Precipitation_df.plot(rot=90, figsize=(9,6))\n",
    "\n",
    "plt.title(\"Daily Precipitation for Last 12 Months in Hawaii\", fontsize=18)\n",
    "plt.xlabel(\"Measurement Date\")\n",
    "plt.ylabel(\"Precipitation Amount (inches)\")\n",
    "\n",
    "plt.tight_layout()\n",
    "plt.savefig(\"Daily_Precipitation_for_12Months_Hawaii.png\")\n",
    "plt.show()"
   ]
  },
  {
   "cell_type": "code",
   "execution_count": 15,
   "metadata": {},
   "outputs": [
    {
     "data": {
      "text/html": [
       "<style type=\"text/css\">\n",
       "</style>\n",
       "<table id=\"T_58637_\">\n",
       "  <thead>\n",
       "    <tr>\n",
       "      <th class=\"blank level0\" >&nbsp;</th>\n",
       "      <th class=\"col_heading level0 col0\" >Precipitation_Amount</th>\n",
       "    </tr>\n",
       "  </thead>\n",
       "  <tbody>\n",
       "    <tr>\n",
       "      <th id=\"T_58637_level0_row0\" class=\"row_heading level0 row0\" >count</th>\n",
       "      <td id=\"T_58637_row0_col0\" class=\"data row0 col0\" >2015.000</td>\n",
       "    </tr>\n",
       "    <tr>\n",
       "      <th id=\"T_58637_level0_row1\" class=\"row_heading level0 row1\" >mean</th>\n",
       "      <td id=\"T_58637_row1_col0\" class=\"data row1 col0\" >0.176</td>\n",
       "    </tr>\n",
       "    <tr>\n",
       "      <th id=\"T_58637_level0_row2\" class=\"row_heading level0 row2\" >std</th>\n",
       "      <td id=\"T_58637_row2_col0\" class=\"data row2 col0\" >0.460</td>\n",
       "    </tr>\n",
       "    <tr>\n",
       "      <th id=\"T_58637_level0_row3\" class=\"row_heading level0 row3\" >min</th>\n",
       "      <td id=\"T_58637_row3_col0\" class=\"data row3 col0\" >0.000</td>\n",
       "    </tr>\n",
       "    <tr>\n",
       "      <th id=\"T_58637_level0_row4\" class=\"row_heading level0 row4\" >25%</th>\n",
       "      <td id=\"T_58637_row4_col0\" class=\"data row4 col0\" >0.000</td>\n",
       "    </tr>\n",
       "    <tr>\n",
       "      <th id=\"T_58637_level0_row5\" class=\"row_heading level0 row5\" >50%</th>\n",
       "      <td id=\"T_58637_row5_col0\" class=\"data row5 col0\" >0.020</td>\n",
       "    </tr>\n",
       "    <tr>\n",
       "      <th id=\"T_58637_level0_row6\" class=\"row_heading level0 row6\" >75%</th>\n",
       "      <td id=\"T_58637_row6_col0\" class=\"data row6 col0\" >0.130</td>\n",
       "    </tr>\n",
       "    <tr>\n",
       "      <th id=\"T_58637_level0_row7\" class=\"row_heading level0 row7\" >max</th>\n",
       "      <td id=\"T_58637_row7_col0\" class=\"data row7 col0\" >6.700</td>\n",
       "    </tr>\n",
       "  </tbody>\n",
       "</table>\n"
      ],
      "text/plain": [
       "<pandas.io.formats.style.Styler at 0x1e205b147f0>"
      ]
     },
     "execution_count": 15,
     "metadata": {},
     "output_type": "execute_result"
    }
   ],
   "source": [
    "# Use Pandas to calcualte the summary statistics for the precipitation data\n",
    "Precipitation_df.describe()\n",
    "# Format Dataframe\n",
    "Precipitation_df.describe().style.format({\"Precipitation_Amount\": \"{:.3f}\"})"
   ]
  },
  {
   "cell_type": "markdown",
   "metadata": {},
   "source": [
    "# Exploratory Station Analysis"
   ]
  },
  {
   "cell_type": "code",
   "execution_count": 17,
   "metadata": {},
   "outputs": [
    {
     "name": "stdout",
     "output_type": "stream",
     "text": [
      "The total number stations is: 9\n"
     ]
    }
   ],
   "source": [
    "# Design a query to calculate the total number stations in the dataset\n",
    "\n",
    "Total_Stations = Session.query(Station.station).count()\n",
    "print(f\"The total number stations is: {Total_Stations}\")"
   ]
  },
  {
   "cell_type": "code",
   "execution_count": 18,
   "metadata": {},
   "outputs": [
    {
     "data": {
      "text/plain": [
       "[('USC00519281', 2772),\n",
       " ('USC00519397', 2724),\n",
       " ('USC00513117', 2709),\n",
       " ('USC00519523', 2669),\n",
       " ('USC00516128', 2612),\n",
       " ('USC00514830', 2202),\n",
       " ('USC00511918', 1979),\n",
       " ('USC00517948', 1372),\n",
       " ('USC00518838', 511)]"
      ]
     },
     "execution_count": 18,
     "metadata": {},
     "output_type": "execute_result"
    }
   ],
   "source": [
    "# Design a query to find the most active stations (i.e. what stations have the most rows?)\n",
    "# List the stations and the counts in descending order.\n",
    "\n",
    "most_active_stations =  Session.query(Measurement.station, func.count(Measurement.station)).\\\n",
    "                        group_by(Measurement.station).\\\n",
    "                        order_by(func.count(Measurement.id).desc()).all()\n",
    "most_active_stations"
   ]
  },
  {
   "cell_type": "code",
   "execution_count": 34,
   "metadata": {},
   "outputs": [
    {
     "name": "stdout",
     "output_type": "stream",
     "text": [
      "Lowest temperature of most active station id=USC00519281: 54.0 degrees Fahrenheit.\n",
      "Highest temperature of most active station id=USC00519281: 85.0 degrees Fahrenheit.\n",
      "Average temperature of most active station id=USC00519281: 71.66 degrees Fahrenheit.\n"
     ]
    }
   ],
   "source": [
    "# Using the most active station id from the previous query, calculate the lowest, highest, and average temperature.\n",
    "\n",
    "most_active_lowest_temp =  Session.query(func.min(Measurement.tobs)).filter(Measurement.station == most_active_stations[0][0]).scalar()\n",
    "most_active_lowest_temp\n",
    "\n",
    "most_active_highest_temp =  Session.query(func.max(Measurement.tobs)).filter(Measurement.station == most_active_stations[0][0]).scalar()\n",
    "most_active_highest_temp\n",
    "\n",
    "most_active_average_temp =  Session.query(func.avg(Measurement.tobs)).filter(Measurement.station == most_active_stations[0][0]).scalar()\n",
    "most_active_average_temp\n",
    "          \n",
    "print(f\"Lowest temperature of most active station id=USC00519281: {most_active_lowest_temp} degrees Fahrenheit.\")\n",
    "print(f\"Highest temperature of most active station id=USC00519281: {most_active_highest_temp} degrees Fahrenheit.\")\n",
    "print(f\"Average temperature of most active station id=USC00519281: {round(most_active_average_temp, 2)} degrees Fahrenheit.\")"
   ]
  },
  {
   "cell_type": "code",
   "execution_count": 41,
   "metadata": {},
   "outputs": [
    {
     "data": {
      "image/png": "[encoded data removed]",
      "text/plain": [
       "<Figure size 648x432 with 1 Axes>"
      ]
     },
     "metadata": {},
     "output_type": "display_data"
    }
   ],
   "source": [
    "# Using the most active station id\n",
    "# Query the last 12 months of temperature observation data for this station and plot the results as a histogram\n",
    "\n",
    "most_active_temp = pd.DataFrame(Session.query(Measurement.tobs).\\\n",
    "                                filter((Measurement.station == most_active_stations[0][0])\\\n",
    "                                       & (Measurement.date >= start_date)\\\n",
    "                                       & (Measurement.date <= end_date)).all())\n",
    "\n",
    "most_active_temp.plot(kind=\"hist\", rot=90, figsize=(9,6))\n",
    "\n",
    "plt.title(\"Temperature for Last 12 Months for this Station id=USC0051928\", fontsize=18)\n",
    "plt.xlabel(\"Temperature (Fahrenheit)\")\n",
    "plt.ylabel(\"Amount (days)\")\n",
    "\n",
    "plt.tight_layout()\n",
    "plt.savefig(\"Daily_Temperature_for_12Months_Station.png\")\n",
    "plt.show()"
   ]
  },
  {
   "cell_type": "markdown",
   "metadata": {},
   "source": [
    "# Close session"
   ]
  },
  {
   "cell_type": "code",
   "execution_count": 43,
   "metadata": {},
   "outputs": [],
   "source": [
    "# Close Session\n",
    "Session.close()"
   ]
  },
  {
   "cell_type": "code",
   "execution_count": null,
   "metadata": {},
   "outputs": [],
   "source": []
  }
 ],
 "metadata": {
  "anaconda-cloud": {},
  "kernel_info": {
   "name": "python3"
  },
  "kernelspec": {
   "display_name": "Python 3 (ipykernel)",
   "language": "python",
   "name": "python3"
  },
  "language_info": {
   "codemirror_mode": {
    "name": "ipython",
    "version": 3
   },
   "file_extension": ".py",
   "mimetype": "text/x-python",
   "name": "python",
   "nbconvert_exporter": "python",
   "pygments_lexer": "ipython3",
   "version": "3.9.7"
  },
  "nteract": {
   "version": "0.12.3"
  },
  "varInspector": {
   "cols": {
    "lenName": 16,
    "lenType": 16,
    "lenVar": 40
   },
   "kernels_config": {
    "python": {
     "delete_cmd_postfix": "",
     "delete_cmd_prefix": "del ",
     "library": "var_list.py",
     "varRefreshCmd": "print(var_dic_list())"
    },
    "r": {
     "delete_cmd_postfix": ") ",
     "delete_cmd_prefix": "rm(",
     "library": "var_list.r",
     "varRefreshCmd": "cat(var_dic_list()) "
    }
   },
   "types_to_exclude": [
    "module",
    "function",
    "builtin_function_or_method",
    "instance",
    "_Feature"
   ],
   "window_display": false
  }
 },
 "nbformat": 4,
 "nbformat_minor": 2
}
